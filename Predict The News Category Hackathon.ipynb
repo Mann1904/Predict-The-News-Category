{
 "cells": [
  {
   "cell_type": "code",
   "execution_count": 26,
   "metadata": {
    "colab": {
     "base_uri": "https://localhost:8080/"
    },
    "executionInfo": {
     "elapsed": 6515,
     "status": "ok",
     "timestamp": 1606222158445,
     "user": {
      "displayName": "Mann saradva",
      "photoUrl": "https://lh3.googleusercontent.com/a-/AOh14Gic0ym3IGkrRpxh6zqSkhe6E9AXUFlnbxkTLFsFTA=s64",
      "userId": "12268554327655311375"
     },
     "user_tz": -330
    },
    "id": "aqxYwweptG9v",
    "outputId": "9d460430-7420-4c52-b2da-7199a30b0d43"
   },
   "outputs": [
    {
     "name": "stdout",
     "output_type": "stream",
     "text": [
      "Requirement already satisfied: nltk in /usr/local/lib/python3.6/dist-packages (3.2.5)\n",
      "Requirement already satisfied: six in /usr/local/lib/python3.6/dist-packages (from nltk) (1.15.0)\n"
     ]
    }
   ],
   "source": [
    "!pip install nltk"
   ]
  },
  {
   "cell_type": "code",
   "execution_count": 27,
   "metadata": {
    "colab": {
     "base_uri": "https://localhost:8080/"
    },
    "executionInfo": {
     "elapsed": 2248,
     "status": "ok",
     "timestamp": 1606222158451,
     "user": {
      "displayName": "Mann saradva",
      "photoUrl": "https://lh3.googleusercontent.com/a-/AOh14Gic0ym3IGkrRpxh6zqSkhe6E9AXUFlnbxkTLFsFTA=s64",
      "userId": "12268554327655311375"
     },
     "user_tz": -330
    },
    "id": "rwB56_FEqbzw",
    "outputId": "35df0f03-7a98-4758-dc7f-00096bf575d0"
   },
   "outputs": [
    {
     "name": "stdout",
     "output_type": "stream",
     "text": [
      "[nltk_data] Downloading package stopwords to /root/nltk_data...\n",
      "[nltk_data]   Package stopwords is already up-to-date!\n"
     ]
    }
   ],
   "source": [
    "import pandas as pd\n",
    "import numpy as np\n",
    "import matplotlib.pyplot as plt\n",
    " \n",
    "import nltk \n",
    "nltk.download('stopwords')\n",
    "from nltk.corpus import stopwords\n",
    "from nltk.stem import SnowballStemmer\n",
    " \n",
    "import tensorflow as tf\n",
    " \n",
    "from keras.preprocessing.text import Tokenizer\n",
    "from keras.preprocessing.sequence import pad_sequences"
   ]
  },
  {
   "cell_type": "code",
   "execution_count": 29,
   "metadata": {
    "executionInfo": {
     "elapsed": 3682,
     "status": "ok",
     "timestamp": 1606222159915,
     "user": {
      "displayName": "Mann saradva",
      "photoUrl": "https://lh3.googleusercontent.com/a-/AOh14Gic0ym3IGkrRpxh6zqSkhe6E9AXUFlnbxkTLFsFTA=s64",
      "userId": "12268554327655311375"
     },
     "user_tz": -330
    },
    "id": "Gz6ka3Z_rJFy"
   },
   "outputs": [],
   "source": [
    "train = pd.read_excel('Data_Train.xlsx')\n",
    "test = pd.read_excel('Data_Test.xlsx')\n",
    "submission = pd.read_excel('Sample_submission.xlsx')"
   ]
  },
  {
   "cell_type": "code",
   "execution_count": 30,
   "metadata": {
    "colab": {
     "base_uri": "https://localhost:8080/",
     "height": 288
    },
    "executionInfo": {
     "elapsed": 3663,
     "status": "ok",
     "timestamp": 1606222159919,
     "user": {
      "displayName": "Mann saradva",
      "photoUrl": "https://lh3.googleusercontent.com/a-/AOh14Gic0ym3IGkrRpxh6zqSkhe6E9AXUFlnbxkTLFsFTA=s64",
      "userId": "12268554327655311375"
     },
     "user_tz": -330
    },
    "id": "x05kw8LVrwza",
    "outputId": "25fef9a8-a108-486a-f2ea-916d7df148a5"
   },
   "outputs": [
    {
     "data": {
      "text/html": [
       "<div>\n",
       "<style scoped>\n",
       "    .dataframe tbody tr th:only-of-type {\n",
       "        vertical-align: middle;\n",
       "    }\n",
       "\n",
       "    .dataframe tbody tr th {\n",
       "        vertical-align: top;\n",
       "    }\n",
       "\n",
       "    .dataframe thead th {\n",
       "        text-align: right;\n",
       "    }\n",
       "</style>\n",
       "<table border=\"1\" class=\"dataframe\">\n",
       "  <thead>\n",
       "    <tr style=\"text-align: right;\">\n",
       "      <th></th>\n",
       "      <th>STORY</th>\n",
       "      <th>SECTION</th>\n",
       "    </tr>\n",
       "  </thead>\n",
       "  <tbody>\n",
       "    <tr>\n",
       "      <th>0</th>\n",
       "      <td>But the most painful was the huge reversal in ...</td>\n",
       "      <td>3</td>\n",
       "    </tr>\n",
       "    <tr>\n",
       "      <th>1</th>\n",
       "      <td>How formidable is the opposition alliance amon...</td>\n",
       "      <td>0</td>\n",
       "    </tr>\n",
       "    <tr>\n",
       "      <th>2</th>\n",
       "      <td>Most Asian currencies were trading lower today...</td>\n",
       "      <td>3</td>\n",
       "    </tr>\n",
       "    <tr>\n",
       "      <th>3</th>\n",
       "      <td>If you want to answer any question, click on ‘...</td>\n",
       "      <td>1</td>\n",
       "    </tr>\n",
       "    <tr>\n",
       "      <th>4</th>\n",
       "      <td>In global markets, gold prices edged up today ...</td>\n",
       "      <td>3</td>\n",
       "    </tr>\n",
       "  </tbody>\n",
       "</table>\n",
       "</div>"
      ],
      "text/plain": [
       "                                               STORY  SECTION\n",
       "0  But the most painful was the huge reversal in ...        3\n",
       "1  How formidable is the opposition alliance amon...        0\n",
       "2  Most Asian currencies were trading lower today...        3\n",
       "3  If you want to answer any question, click on ‘...        1\n",
       "4  In global markets, gold prices edged up today ...        3"
      ]
     },
     "execution_count": 30,
     "metadata": {
      "tags": []
     },
     "output_type": "execute_result"
    }
   ],
   "source": [
    "train.head()"
   ]
  },
  {
   "cell_type": "code",
   "execution_count": 31,
   "metadata": {
    "colab": {
     "base_uri": "https://localhost:8080/",
     "height": 206
    },
    "executionInfo": {
     "elapsed": 3629,
     "status": "ok",
     "timestamp": 1606222159923,
     "user": {
      "displayName": "Mann saradva",
      "photoUrl": "https://lh3.googleusercontent.com/a-/AOh14Gic0ym3IGkrRpxh6zqSkhe6E9AXUFlnbxkTLFsFTA=s64",
      "userId": "12268554327655311375"
     },
     "user_tz": -330
    },
    "id": "TctjjfgktdPw",
    "outputId": "57f3e921-c969-4ff2-f0fa-c49b39795850"
   },
   "outputs": [
    {
     "data": {
      "application/vnd.google.colaboratory.intrinsic+json": {
       "type": "string"
      },
      "text/plain": [
       "\"BEIJING: Chinese tech giant Huawei has announced plans to release a next-generation smartphone based on its own technology instead of US components, stepping up efforts to compete directly with Western industry leaders.\\n\\n\\nThursday's announcement comes as Huawei Technologies Ltd., the world's biggest maker of network gear for phone companies, combats US warnings the company might be a security risk.\""
      ]
     },
     "execution_count": 31,
     "metadata": {
      "tags": []
     },
     "output_type": "execute_result"
    }
   ],
   "source": [
    "train.STORY[5]"
   ]
  },
  {
   "cell_type": "code",
   "execution_count": 32,
   "metadata": {
    "executionInfo": {
     "elapsed": 5955,
     "status": "ok",
     "timestamp": 1606222162258,
     "user": {
      "displayName": "Mann saradva",
      "photoUrl": "https://lh3.googleusercontent.com/a-/AOh14Gic0ym3IGkrRpxh6zqSkhe6E9AXUFlnbxkTLFsFTA=s64",
      "userId": "12268554327655311375"
     },
     "user_tz": -330
    },
    "id": "ycKUf1DEr1eR"
   },
   "outputs": [],
   "source": [
    "stop_words = stopwords.words('english')\n",
    "stemmer = SnowballStemmer('english')\n",
    " \n",
    "def preprocess(text, stem=False):\n",
    "  tokens = []\n",
    "  for token in text.split():\n",
    "    if token not in stop_words:\n",
    "      if stem:\n",
    "        tokens.append(stemmer.stem(token))\n",
    "      else:\n",
    "        tokens.append(token)\n",
    "  return \" \".join(tokens)\n",
    " \n",
    "train.STORY = train.STORY.apply(lambda x: preprocess(x))\n",
    "test.STORY = test.STORY.apply(lambda x: preprocess(x))"
   ]
  },
  {
   "cell_type": "code",
   "execution_count": 33,
   "metadata": {
    "colab": {
     "base_uri": "https://localhost:8080/",
     "height": 189
    },
    "executionInfo": {
     "elapsed": 5961,
     "status": "ok",
     "timestamp": 1606222162283,
     "user": {
      "displayName": "Mann saradva",
      "photoUrl": "https://lh3.googleusercontent.com/a-/AOh14Gic0ym3IGkrRpxh6zqSkhe6E9AXUFlnbxkTLFsFTA=s64",
      "userId": "12268554327655311375"
     },
     "user_tz": -330
    },
    "id": "EBxKXfAdtlVI",
    "outputId": "b6eea50d-d8cd-4cf9-f560-5968f7f1439d"
   },
   "outputs": [
    {
     "data": {
      "application/vnd.google.colaboratory.intrinsic+json": {
       "type": "string"
      },
      "text/plain": [
       "\"BEIJING: Chinese tech giant Huawei announced plans release next-generation smartphone based technology instead US components, stepping efforts compete directly Western industry leaders. Thursday's announcement comes Huawei Technologies Ltd., world's biggest maker network gear phone companies, combats US warnings company might security risk.\""
      ]
     },
     "execution_count": 33,
     "metadata": {
      "tags": []
     },
     "output_type": "execute_result"
    }
   ],
   "source": [
    "train.STORY[5]"
   ]
  },
  {
   "cell_type": "code",
   "execution_count": 34,
   "metadata": {
    "colab": {
     "base_uri": "https://localhost:8080/",
     "height": 207
    },
    "executionInfo": {
     "elapsed": 5941,
     "status": "ok",
     "timestamp": 1606222162287,
     "user": {
      "displayName": "Mann saradva",
      "photoUrl": "https://lh3.googleusercontent.com/a-/AOh14Gic0ym3IGkrRpxh6zqSkhe6E9AXUFlnbxkTLFsFTA=s64",
      "userId": "12268554327655311375"
     },
     "user_tz": -330
    },
    "id": "4Y_oiw_ots1z",
    "outputId": "396e6ad3-260d-4578-9409-12eb9910bd3b"
   },
   "outputs": [
    {
     "data": {
      "text/plain": [
       "Text(0.5, 1.0, 'Data Distribution')"
      ]
     },
     "execution_count": 34,
     "metadata": {
      "tags": []
     },
     "output_type": "execute_result"
    },
    {
     "data": {
      "image/png": "[encoded data removed]",
      "text/plain": [
       "<Figure size 576x288 with 1 Axes>"
      ]
     },
     "metadata": {
      "needs_background": "light",
      "tags": []
     },
     "output_type": "display_data"
    }
   ],
   "source": [
    "val_count = train.SECTION.value_counts()\n",
    " \n",
    "plt.figure(figsize=(8,4))\n",
    "plt.bar(val_count.index, val_count.values)\n",
    "plt.title(\"Data Distribution\")"
   ]
  },
  {
   "cell_type": "code",
   "execution_count": 35,
   "metadata": {
    "colab": {
     "base_uri": "https://localhost:8080/"
    },
    "executionInfo": {
     "elapsed": 5925,
     "status": "ok",
     "timestamp": 1606222162290,
     "user": {
      "displayName": "Mann saradva",
      "photoUrl": "https://lh3.googleusercontent.com/a-/AOh14Gic0ym3IGkrRpxh6zqSkhe6E9AXUFlnbxkTLFsFTA=s64",
      "userId": "12268554327655311375"
     },
     "user_tz": -330
    },
    "id": "ODeO0h1eue8s",
    "outputId": "ab64f07e-d119-4000-b123-6543c98dd218"
   },
   "outputs": [
    {
     "data": {
      "text/plain": [
       "68"
      ]
     },
     "execution_count": 35,
     "metadata": {
      "tags": []
     },
     "output_type": "execute_result"
    }
   ],
   "source": [
    "# avg sentence size\n",
    "sum = 0\n",
    "for i in range(len(train.STORY)):\n",
    "  sum+=len(train.STORY[i].split())\n",
    "avg = sum//len(train.STORY)\n",
    "avg"
   ]
  },
  {
   "cell_type": "code",
   "execution_count": 36,
   "metadata": {
    "executionInfo": {
     "elapsed": 5918,
     "status": "ok",
     "timestamp": 1606222162293,
     "user": {
      "displayName": "Mann saradva",
      "photoUrl": "https://lh3.googleusercontent.com/a-/AOh14Gic0ym3IGkrRpxh6zqSkhe6E9AXUFlnbxkTLFsFTA=s64",
      "userId": "12268554327655311375"
     },
     "user_tz": -330
    },
    "id": "LqrFhwQ2vQbt"
   },
   "outputs": [],
   "source": [
    "vocab_size = 20000\n",
    "embedding_dim = 12\n",
    "max_length = 150\n",
    "trunc_type = 'post'\n",
    "padding_type = 'post'\n",
    "oov_tok = '<OOV>'"
   ]
  },
  {
   "cell_type": "code",
   "execution_count": 37,
   "metadata": {
    "executionInfo": {
     "elapsed": 7637,
     "status": "ok",
     "timestamp": 1606222164023,
     "user": {
      "displayName": "Mann saradva",
      "photoUrl": "https://lh3.googleusercontent.com/a-/AOh14Gic0ym3IGkrRpxh6zqSkhe6E9AXUFlnbxkTLFsFTA=s64",
      "userId": "12268554327655311375"
     },
     "user_tz": -330
    },
    "id": "STeiLYcxvyUg"
   },
   "outputs": [],
   "source": [
    "tokenizer = Tokenizer(num_words = vocab_size, oov_token=oov_tok)\n",
    "tokenizer.fit_on_texts(train.STORY)\n",
    "word_index = tokenizer.word_index"
   ]
  },
  {
   "cell_type": "code",
   "execution_count": 38,
   "metadata": {
    "colab": {
     "base_uri": "https://localhost:8080/"
    },
    "executionInfo": {
     "elapsed": 7622,
     "status": "ok",
     "timestamp": 1606222164027,
     "user": {
      "displayName": "Mann saradva",
      "photoUrl": "https://lh3.googleusercontent.com/a-/AOh14Gic0ym3IGkrRpxh6zqSkhe6E9AXUFlnbxkTLFsFTA=s64",
      "userId": "12268554327655311375"
     },
     "user_tz": -330
    },
    "id": "fN_Zg2G7wIKe",
    "outputId": "6bf647f9-721d-4b7c-fd53-18a4adbbba62"
   },
   "outputs": [
    {
     "data": {
      "text/plain": [
       "{'<OOV>': 1,\n",
       " 'also': 4,\n",
       " 'bjp': 9,\n",
       " 'congress': 10,\n",
       " 'india': 5,\n",
       " 'it': 7,\n",
       " 'new': 6,\n",
       " 'said': 3,\n",
       " 'the': 2,\n",
       " 'year': 8}"
      ]
     },
     "execution_count": 38,
     "metadata": {
      "tags": []
     },
     "output_type": "execute_result"
    }
   ],
   "source": [
    "dict(list(word_index.items())[0:10])"
   ]
  },
  {
   "cell_type": "code",
   "execution_count": 39,
   "metadata": {
    "executionInfo": {
     "elapsed": 7617,
     "status": "ok",
     "timestamp": 1606222164031,
     "user": {
      "displayName": "Mann saradva",
      "photoUrl": "https://lh3.googleusercontent.com/a-/AOh14Gic0ym3IGkrRpxh6zqSkhe6E9AXUFlnbxkTLFsFTA=s64",
      "userId": "12268554327655311375"
     },
     "user_tz": -330
    },
    "id": "FECOkRAkwdI2"
   },
   "outputs": [],
   "source": [
    "train_sequences = tokenizer.texts_to_sequences(train.STORY)\n",
    "test_sequences = tokenizer.texts_to_sequences(test.STORY)"
   ]
  },
  {
   "cell_type": "code",
   "execution_count": 40,
   "metadata": {
    "colab": {
     "base_uri": "https://localhost:8080/",
     "height": 189
    },
    "executionInfo": {
     "elapsed": 7600,
     "status": "ok",
     "timestamp": 1606222164035,
     "user": {
      "displayName": "Mann saradva",
      "photoUrl": "https://lh3.googleusercontent.com/a-/AOh14Gic0ym3IGkrRpxh6zqSkhe6E9AXUFlnbxkTLFsFTA=s64",
      "userId": "12268554327655311375"
     },
     "user_tz": -330
    },
    "id": "1IZ1qORNwvxF",
    "outputId": "12bb99d0-ace1-4ec0-9ad0-ccd29d1a9799"
   },
   "outputs": [
    {
     "data": {
      "application/vnd.google.colaboratory.intrinsic+json": {
       "type": "string"
      },
      "text/plain": [
       "\"BEIJING: Chinese tech giant Huawei announced plans release next-generation smartphone based technology instead US components, stepping efforts compete directly Western industry leaders. Thursday's announcement comes Huawei Technologies Ltd., world's biggest maker network gear phone companies, combats US warnings company might security risk.\""
      ]
     },
     "execution_count": 40,
     "metadata": {
      "tags": []
     },
     "output_type": "execute_result"
    }
   ],
   "source": [
    "train.STORY[5]"
   ]
  },
  {
   "cell_type": "code",
   "execution_count": 41,
   "metadata": {
    "colab": {
     "base_uri": "https://localhost:8080/"
    },
    "executionInfo": {
     "elapsed": 7580,
     "status": "ok",
     "timestamp": 1606222164038,
     "user": {
      "displayName": "Mann saradva",
      "photoUrl": "https://lh3.googleusercontent.com/a-/AOh14Gic0ym3IGkrRpxh6zqSkhe6E9AXUFlnbxkTLFsFTA=s64",
      "userId": "12268554327655311375"
     },
     "user_tz": -330
    },
    "id": "vgCIs6Iewlyg",
    "outputId": "5e9d52b6-d15d-453b-8a5f-28468c6589b6"
   },
   "outputs": [
    {
     "name": "stdout",
     "output_type": "stream",
     "text": [
      "[2311, 203, 473, 986, 214, 151, 409, 357, 131, 1066, 34, 78, 106, 603, 24, 2804, 6462, 1246, 2942, 1428, 1774, 290, 204, 6882, 1182, 114, 214, 587, 156, 1274, 330, 653, 527, 4076, 70, 81, 1, 24, 8022, 36, 282, 122, 598]\n"
     ]
    }
   ],
   "source": [
    "print(train_sequences[5])"
   ]
  },
  {
   "cell_type": "code",
   "execution_count": 42,
   "metadata": {
    "executionInfo": {
     "elapsed": 7575,
     "status": "ok",
     "timestamp": 1606222164041,
     "user": {
      "displayName": "Mann saradva",
      "photoUrl": "https://lh3.googleusercontent.com/a-/AOh14Gic0ym3IGkrRpxh6zqSkhe6E9AXUFlnbxkTLFsFTA=s64",
      "userId": "12268554327655311375"
     },
     "user_tz": -330
    },
    "id": "gGOFzyXSwpp5"
   },
   "outputs": [],
   "source": [
    "train_padded = pad_sequences(train_sequences, maxlen=max_length, padding=padding_type, truncating=trunc_type)\n",
    "test_padded = pad_sequences(test_sequences, maxlen=max_length, padding=padding_type, truncating=trunc_type)"
   ]
  },
  {
   "cell_type": "code",
   "execution_count": 43,
   "metadata": {
    "colab": {
     "base_uri": "https://localhost:8080/"
    },
    "executionInfo": {
     "elapsed": 7559,
     "status": "ok",
     "timestamp": 1606222164043,
     "user": {
      "displayName": "Mann saradva",
      "photoUrl": "https://lh3.googleusercontent.com/a-/AOh14Gic0ym3IGkrRpxh6zqSkhe6E9AXUFlnbxkTLFsFTA=s64",
      "userId": "12268554327655311375"
     },
     "user_tz": -330
    },
    "id": "z9BHxxT0xao5",
    "outputId": "3762ad56-4678-4d2c-9282-7bea0070b2d3"
   },
   "outputs": [
    {
     "data": {
      "text/plain": [
       "array([2311,  203,  473,  986,  214,  151,  409,  357,  131, 1066,   34,\n",
       "         78,  106,  603,   24, 2804, 6462, 1246, 2942, 1428, 1774,  290,\n",
       "        204, 6882, 1182,  114,  214,  587,  156, 1274,  330,  653,  527,\n",
       "       4076,   70,   81,    1,   24, 8022,   36,  282,  122,  598,    0,\n",
       "          0,    0,    0,    0,    0,    0,    0,    0,    0,    0,    0,\n",
       "          0,    0,    0,    0,    0,    0,    0,    0,    0,    0,    0,\n",
       "          0,    0,    0,    0,    0,    0,    0,    0,    0,    0,    0,\n",
       "          0,    0,    0,    0,    0,    0,    0,    0,    0,    0,    0,\n",
       "          0,    0,    0,    0,    0,    0,    0,    0,    0,    0,    0,\n",
       "          0,    0,    0,    0,    0,    0,    0,    0,    0,    0,    0,\n",
       "          0,    0,    0,    0,    0,    0,    0,    0,    0,    0,    0,\n",
       "          0,    0,    0,    0,    0,    0,    0,    0,    0,    0,    0,\n",
       "          0,    0,    0,    0,    0,    0,    0,    0,    0,    0,    0,\n",
       "          0,    0,    0,    0,    0,    0,    0], dtype=int32)"
      ]
     },
     "execution_count": 43,
     "metadata": {
      "tags": []
     },
     "output_type": "execute_result"
    }
   ],
   "source": [
    "train_padded[5]"
   ]
  },
  {
   "cell_type": "code",
   "execution_count": 44,
   "metadata": {
    "executionInfo": {
     "elapsed": 7551,
     "status": "ok",
     "timestamp": 1606222164046,
     "user": {
      "displayName": "Mann saradva",
      "photoUrl": "https://lh3.googleusercontent.com/a-/AOh14Gic0ym3IGkrRpxh6zqSkhe6E9AXUFlnbxkTLFsFTA=s64",
      "userId": "12268554327655311375"
     },
     "user_tz": -330
    },
    "id": "csvmr_K60CiD"
   },
   "outputs": [],
   "source": [
    "from keras.utils import to_categorical\n",
    "one_hot_label = to_categorical(train.SECTION)"
   ]
  },
  {
   "cell_type": "code",
   "execution_count": 45,
   "metadata": {
    "colab": {
     "base_uri": "https://localhost:8080/"
    },
    "executionInfo": {
     "elapsed": 8980,
     "status": "ok",
     "timestamp": 1606222165494,
     "user": {
      "displayName": "Mann saradva",
      "photoUrl": "https://lh3.googleusercontent.com/a-/AOh14Gic0ym3IGkrRpxh6zqSkhe6E9AXUFlnbxkTLFsFTA=s64",
      "userId": "12268554327655311375"
     },
     "user_tz": -330
    },
    "id": "9r8erlS3xd0T",
    "outputId": "cb3dd0d8-d6e0-4861-9f68-bf197d84da53"
   },
   "outputs": [
    {
     "name": "stdout",
     "output_type": "stream",
     "text": [
      "Model: \"sequential_1\"\n",
      "_________________________________________________________________\n",
      "Layer (type)                 Output Shape              Param #   \n",
      "=================================================================\n",
      "embedding_1 (Embedding)      (None, None, 12)          240000    \n",
      "_________________________________________________________________\n",
      "bidirectional_3 (Bidirection (None, None, 24)          2400      \n",
      "_________________________________________________________________\n",
      "dropout_1 (Dropout)          (None, None, 24)          0         \n",
      "_________________________________________________________________\n",
      "bidirectional_4 (Bidirection (None, None, 24)          3552      \n",
      "_________________________________________________________________\n",
      "bidirectional_5 (Bidirection (None, 24)                3552      \n",
      "_________________________________________________________________\n",
      "dense_2 (Dense)              (None, 12)                300       \n",
      "_________________________________________________________________\n",
      "dense_3 (Dense)              (None, 4)                 52        \n",
      "=================================================================\n",
      "Total params: 249,856\n",
      "Trainable params: 249,856\n",
      "Non-trainable params: 0\n",
      "_________________________________________________________________\n"
     ]
    }
   ],
   "source": [
    "model = tf.keras.Sequential([\n",
    "    tf.keras.layers.Embedding(vocab_size, embedding_dim),\n",
    "    tf.keras.layers.Bidirectional(tf.keras.layers.LSTM(embedding_dim, return_sequences=True)),\n",
    "    tf.keras.layers.Dropout(0.3),\n",
    "    tf.keras.layers.Bidirectional(tf.keras.layers.LSTM(embedding_dim, return_sequences=True)),\n",
    "    tf.keras.layers.Bidirectional(tf.keras.layers.LSTM(embedding_dim)),\n",
    "    tf.keras.layers.Dense(embedding_dim, activation='relu'),\n",
    "    tf.keras.layers.Dense(4, activation='softmax')\n",
    "])\n",
    "model.summary()"
   ]
  },
  {
   "cell_type": "code",
   "execution_count": 46,
   "metadata": {
    "executionInfo": {
     "elapsed": 8975,
     "status": "ok",
     "timestamp": 1606222165498,
     "user": {
      "displayName": "Mann saradva",
      "photoUrl": "https://lh3.googleusercontent.com/a-/AOh14Gic0ym3IGkrRpxh6zqSkhe6E9AXUFlnbxkTLFsFTA=s64",
      "userId": "12268554327655311375"
     },
     "user_tz": -330
    },
    "id": "vYAvbFrfyP7A"
   },
   "outputs": [],
   "source": [
    "model.compile(loss='categorical_crossentropy', optimizer='adam', metrics=['accuracy'])"
   ]
  },
  {
   "cell_type": "code",
   "execution_count": 47,
   "metadata": {
    "colab": {
     "base_uri": "https://localhost:8080/"
    },
    "executionInfo": {
     "elapsed": 68571,
     "status": "ok",
     "timestamp": 1606223792059,
     "user": {
      "displayName": "Mann saradva",
      "photoUrl": "https://lh3.googleusercontent.com/a-/AOh14Gic0ym3IGkrRpxh6zqSkhe6E9AXUFlnbxkTLFsFTA=s64",
      "userId": "12268554327655311375"
     },
     "user_tz": -330
    },
    "id": "iiVKQnMKyUlm",
    "outputId": "9e409f8a-7184-4d23-d0ed-de59002126ce"
   },
   "outputs": [
    {
     "name": "stdout",
     "output_type": "stream",
     "text": [
      "Epoch 1/35\n",
      "239/239 [==============================] - 46s 192ms/step - loss: 0.8897 - accuracy: 0.6200\n",
      "Epoch 2/35\n",
      "239/239 [==============================] - 46s 193ms/step - loss: 0.2342 - accuracy: 0.9417\n",
      "Epoch 3/35\n",
      "239/239 [==============================] - 46s 193ms/step - loss: 0.1069 - accuracy: 0.9731\n",
      "Epoch 4/35\n",
      "239/239 [==============================] - 46s 192ms/step - loss: 0.0496 - accuracy: 0.9882\n",
      "Epoch 5/35\n",
      "239/239 [==============================] - 46s 192ms/step - loss: 0.0400 - accuracy: 0.9907\n",
      "Epoch 6/35\n",
      "239/239 [==============================] - 46s 192ms/step - loss: 0.0237 - accuracy: 0.9949\n",
      "Epoch 7/35\n",
      "239/239 [==============================] - 46s 192ms/step - loss: 0.0396 - accuracy: 0.9912\n",
      "Epoch 8/35\n",
      "239/239 [==============================] - 46s 192ms/step - loss: 0.0429 - accuracy: 0.9890\n",
      "Epoch 9/35\n",
      "239/239 [==============================] - 46s 192ms/step - loss: 0.0164 - accuracy: 0.9957\n",
      "Epoch 10/35\n",
      "239/239 [==============================] - 46s 192ms/step - loss: 0.0128 - accuracy: 0.9967\n",
      "Epoch 11/35\n",
      "239/239 [==============================] - 46s 193ms/step - loss: 0.0111 - accuracy: 0.9966\n",
      "Epoch 12/35\n",
      "239/239 [==============================] - 46s 193ms/step - loss: 0.0385 - accuracy: 0.9911\n",
      "Epoch 13/35\n",
      "239/239 [==============================] - 46s 193ms/step - loss: 0.0140 - accuracy: 0.9963\n",
      "Epoch 14/35\n",
      "239/239 [==============================] - 46s 193ms/step - loss: 0.0205 - accuracy: 0.9946\n",
      "Epoch 15/35\n",
      "239/239 [==============================] - 46s 193ms/step - loss: 0.0104 - accuracy: 0.9972\n",
      "Epoch 16/35\n",
      "239/239 [==============================] - 46s 193ms/step - loss: 0.0074 - accuracy: 0.9970\n",
      "Epoch 17/35\n",
      "239/239 [==============================] - 46s 193ms/step - loss: 0.0066 - accuracy: 0.9978\n",
      "Epoch 18/35\n",
      "239/239 [==============================] - 46s 193ms/step - loss: 0.0057 - accuracy: 0.9971\n",
      "Epoch 19/35\n",
      "239/239 [==============================] - 46s 194ms/step - loss: 0.0059 - accuracy: 0.9974\n",
      "Epoch 20/35\n",
      "239/239 [==============================] - 46s 194ms/step - loss: 0.0052 - accuracy: 0.9979\n",
      "Epoch 21/35\n",
      "239/239 [==============================] - 46s 193ms/step - loss: 0.0054 - accuracy: 0.9974\n",
      "Epoch 22/35\n",
      "239/239 [==============================] - 46s 192ms/step - loss: 0.0049 - accuracy: 0.9974\n",
      "Epoch 23/35\n",
      "239/239 [==============================] - 46s 192ms/step - loss: 0.0054 - accuracy: 0.9976\n",
      "Epoch 24/35\n",
      "239/239 [==============================] - 46s 192ms/step - loss: 0.0052 - accuracy: 0.9972\n",
      "Epoch 25/35\n",
      "239/239 [==============================] - 46s 192ms/step - loss: 0.0050 - accuracy: 0.9979\n",
      "Epoch 26/35\n",
      "239/239 [==============================] - 46s 193ms/step - loss: 0.0050 - accuracy: 0.9972\n",
      "Epoch 27/35\n",
      "239/239 [==============================] - 46s 193ms/step - loss: 0.0051 - accuracy: 0.9971\n",
      "Epoch 28/35\n",
      "239/239 [==============================] - 46s 193ms/step - loss: 0.0048 - accuracy: 0.9975\n",
      "Epoch 29/35\n",
      "239/239 [==============================] - 46s 193ms/step - loss: 0.0049 - accuracy: 0.9975\n",
      "Epoch 30/35\n",
      "239/239 [==============================] - 46s 193ms/step - loss: 0.0050 - accuracy: 0.9972\n",
      "Epoch 31/35\n",
      "239/239 [==============================] - 46s 192ms/step - loss: 0.0048 - accuracy: 0.9967\n",
      "Epoch 32/35\n",
      "239/239 [==============================] - 46s 193ms/step - loss: 0.0052 - accuracy: 0.9975\n",
      "Epoch 33/35\n",
      "239/239 [==============================] - 46s 193ms/step - loss: 0.0050 - accuracy: 0.9975\n",
      "Epoch 34/35\n",
      "239/239 [==============================] - 45s 190ms/step - loss: 0.0046 - accuracy: 0.9978\n",
      "Epoch 35/35\n",
      "239/239 [==============================] - 46s 191ms/step - loss: 0.0049 - accuracy: 0.9970\n"
     ]
    }
   ],
   "source": [
    "num_epochs = 35\n",
    "history = model.fit(train_padded, one_hot_label,epochs=num_epochs, verbose=1, batch_size=32)"
   ]
  },
  {
   "cell_type": "code",
   "execution_count": null,
   "metadata": {
    "id": "eUNkS9l9zL-n"
   },
   "outputs": [],
   "source": [
    "ypred = model.predict_classes(test_padded)"
   ]
  },
  {
   "cell_type": "code",
   "execution_count": null,
   "metadata": {
    "id": "KFYsOrQE1rU6"
   },
   "outputs": [],
   "source": [
    "ypred"
   ]
  },
  {
   "cell_type": "code",
   "execution_count": null,
   "metadata": {
    "id": "VMtL5Ya91yTg"
   },
   "outputs": [],
   "source": [
    "submission.SECTION = ypred\n",
    "\n",
    "submission.to_excel('Submission.xlsx', index=False)"
   ]
  },
  {
   "cell_type": "code",
   "execution_count": null,
   "metadata": {
    "id": "iguG0W5N11-s"
   },
   "outputs": [],
   "source": []
  }
 ],
 "metadata": {
  "accelerator": "GPU",
  "colab": {
   "authorship_tag": "ABX9TyNU2775q4t0apCOUcHb0ONt",
   "collapsed_sections": [],
   "mount_file_id": "1IDrrGC9Rp4aw06a4zSTOnvjgO4h-IsCb",
   "name": " Predict The News Category Hackathon.ipynb",
   "provenance": []
  },
  "kernelspec": {
   "display_name": "Python 3",
   "language": "python",
   "name": "python3"
  },
  "language_info": {
   "codemirror_mode": {
    "name": "ipython",
    "version": 3
   },
   "file_extension": ".py",
   "mimetype": "text/x-python",
   "name": "python",
   "nbconvert_exporter": "python",
   "pygments_lexer": "ipython3",
   "version": "3.7.6"
  }
 },
 "nbformat": 4,
 "nbformat_minor": 1
}
